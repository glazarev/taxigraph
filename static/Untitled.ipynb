{
 "cells": [
  {
   "cell_type": "code",
   "execution_count": 243,
   "metadata": {},
   "outputs": [],
   "source": [
    "import dill\n",
    "import pandas as pd\n",
    "import numpy as np\n",
    "import altair as alt\n"
   ]
  },
  {
   "cell_type": "code",
   "execution_count": 193,
   "metadata": {},
   "outputs": [
    {
     "data": {
      "text/plain": [
       "'yearlist=231&yearlist=345'"
      ]
     },
     "execution_count": 193,
     "metadata": {},
     "output_type": "execute_result"
    }
   ],
   "source": [
    "joiner='&yearlist='\n",
    "yearquery=joiner[1:]+joiner.join(['231','345'])\n",
    "yearquery"
   ]
  },
  {
   "cell_type": "code",
   "execution_count": 245,
   "metadata": {},
   "outputs": [
    {
     "data": {
      "text/html": [
       "\n",
       "<div id=\"altair-viz-59b04f5f893b45f38e06c14e8068c6aa\"></div>\n",
       "<script type=\"text/javascript\">\n",
       "  (function(spec, embedOpt){\n",
       "    let outputDiv = document.currentScript.previousElementSibling;\n",
       "    if (outputDiv.id !== \"altair-viz-59b04f5f893b45f38e06c14e8068c6aa\") {\n",
       "      outputDiv = document.getElementById(\"altair-viz-59b04f5f893b45f38e06c14e8068c6aa\");\n",
       "    }\n",
       "    const paths = {\n",
       "      \"vega\": \"https://cdn.jsdelivr.net/npm//vega@5?noext\",\n",
       "      \"vega-lib\": \"https://cdn.jsdelivr.net/npm//vega-lib?noext\",\n",
       "      \"vega-lite\": \"https://cdn.jsdelivr.net/npm//vega-lite@4.8.1?noext\",\n",
       "      \"vega-embed\": \"https://cdn.jsdelivr.net/npm//vega-embed@6?noext\",\n",
       "    };\n",
       "\n",
       "    function loadScript(lib) {\n",
       "      return new Promise(function(resolve, reject) {\n",
       "        var s = document.createElement('script');\n",
       "        s.src = paths[lib];\n",
       "        s.async = true;\n",
       "        s.onload = () => resolve(paths[lib]);\n",
       "        s.onerror = () => reject(`Error loading script: ${paths[lib]}`);\n",
       "        document.getElementsByTagName(\"head\")[0].appendChild(s);\n",
       "      });\n",
       "    }\n",
       "\n",
       "    function showError(err) {\n",
       "      outputDiv.innerHTML = `<div class=\"error\" style=\"color:red;\">${err}</div>`;\n",
       "      throw err;\n",
       "    }\n",
       "\n",
       "    function displayChart(vegaEmbed) {\n",
       "      vegaEmbed(outputDiv, spec, embedOpt)\n",
       "        .catch(err => showError(`Javascript Error: ${err.message}<br>This usually means there's a typo in your chart specification. See the javascript console for the full traceback.`));\n",
       "    }\n",
       "\n",
       "    if(typeof define === \"function\" && define.amd) {\n",
       "      requirejs.config({paths});\n",
       "      require([\"vega-embed\"], displayChart, err => showError(`Error loading script: ${err.message}`));\n",
       "    } else if (typeof vegaEmbed === \"function\") {\n",
       "      displayChart(vegaEmbed);\n",
       "    } else {\n",
       "      loadScript(\"vega\")\n",
       "        .then(() => loadScript(\"vega-lite\"))\n",
       "        .then(() => loadScript(\"vega-embed\"))\n",
       "        .catch(showError)\n",
       "        .then(() => displayChart(vegaEmbed));\n",
       "    }\n",
       "  })({\"config\": {\"view\": {\"continuousWidth\": 400, \"continuousHeight\": 300}}, \"layer\": [{\"mark\": \"line\", \"encoding\": {\"x\": {\"type\": \"nominal\", \"field\": \"Fiscal Years\"}, \"y\": {\"type\": \"quantitative\", \"field\": \"Income Taxes Paid, Net Per Taxable Income\", \"scale\": {\"type\": \"linear\"}}}, \"height\": 200, \"title\": \"APPLE INC\", \"width\": 600}, {\"mark\": {\"type\": \"point\", \"filled\": true, \"size\": 100}, \"encoding\": {\"tooltip\": [{\"type\": \"nominal\", \"field\": \"Value\"}, {\"type\": \"nominal\", \"field\": \"Fiscal Years\"}], \"x\": {\"type\": \"nominal\", \"field\": \"Fiscal Years\"}, \"y\": {\"type\": \"quantitative\", \"field\": \"Income Taxes Paid, Net Per Taxable Income\", \"scale\": {\"type\": \"linear\"}}}, \"height\": 200, \"width\": 600}], \"data\": {\"name\": \"data-0b6fc9a5b474b72524e00ac25feafd42\"}, \"$schema\": \"https://vega.github.io/schema/vega-lite/v4.8.1.json\", \"datasets\": {\"data-0b6fc9a5b474b72524e00ac25feafd42\": [{\"IncomeTaxesPaidNet\": 10444000000.0, \"TaxableIncome\": 61372000000.0, \"hist_match\": true, \"name\": \"APPLE INC\", \"sic\": 3571.0, \"Income Taxes Paid, Net\": 10444000000.0, \"Taxable Income\": 61372000000.0, \"yearc\": \"2016\", \"Fiscal Years\": \"2016\", \"Income Taxes Paid, Net Per Taxable Income\": 0.17017532425210194, \"Value\": \"0.17\"}, {\"IncomeTaxesPaidNet\": 11591000000.0, \"TaxableIncome\": 64089000000.0, \"hist_match\": true, \"name\": \"APPLE INC\", \"sic\": 3571.0, \"Income Taxes Paid, Net\": 11591000000.0, \"Taxable Income\": 64089000000.0, \"yearc\": \"2017\", \"Fiscal Years\": \"2017\", \"Income Taxes Paid, Net Per Taxable Income\": 0.18085786952519153, \"Value\": \"0.18\"}, {\"IncomeTaxesPaidNet\": 10417000000.0, \"TaxableIncome\": 72903000000.0, \"hist_match\": true, \"name\": \"APPLE INC\", \"sic\": 3571.0, \"Income Taxes Paid, Net\": 10417000000.0, \"Taxable Income\": 72903000000.0, \"yearc\": \"2018\", \"Fiscal Years\": \"2018\", \"Income Taxes Paid, Net Per Taxable Income\": 0.14288849567233172, \"Value\": \"0.14\"}, {\"IncomeTaxesPaidNet\": 15263000000.0, \"TaxableIncome\": 65737000000.0, \"hist_match\": true, \"name\": \"APPLE INC\", \"sic\": 3571.0, \"Income Taxes Paid, Net\": 15263000000.0, \"Taxable Income\": 65737000000.0, \"yearc\": \"2019\", \"Fiscal Years\": \"2019\", \"Income Taxes Paid, Net Per Taxable Income\": 0.23218278899250042, \"Value\": \"0.23\"}]}}, {\"mode\": \"vega-lite\"});\n",
       "</script>"
      ],
      "text/plain": [
       "alt.LayerChart(...)"
      ]
     },
     "execution_count": 245,
     "metadata": {},
     "output_type": "execute_result"
    }
   ],
   "source": [
    "years = [2017,2018,2016,2019]\n",
    "histnum='IncomeTaxesPaidNet'\n",
    "histbase='TaxableIncome'\n",
    "tic='aapl'\n",
    "\n",
    "t=dill.load(open('t.pkl','rb'))\n",
    "tag2label=dill.load(open('tag2label.pkl','rb'))\n",
    "tickers=pd.read_table('tickers.txt')\n",
    "tickers=tickers.set_index('cik')\n",
    "    \n",
    "\n",
    "if tic=='':\n",
    "    ticik=None\n",
    "else:\n",
    "    try:\n",
    "        ticik=tickers[tickers['ticker']==tic].index.values[0]\n",
    "    except:\n",
    "        ticik=None\n",
    "\n",
    "setselect=(t.index.get_level_values('year').isin(years) & (t.index.get_level_values('cik')==ticik))\n",
    "\n",
    "# Create dataset to be inserted in Altair\n",
    "if histbase!=None:\n",
    "    data_hist=t.loc[setselect,[('value',histnum),('value',histbase),('month',histnum),('month',histbase)]].copy()\n",
    "    data_hist[('','hist_match')]=(t[('month',histnum)]==t[('month',histbase)])\n",
    "    data_hist=data_hist.drop([('month',histnum),('month',histbase)],axis=1)    \n",
    "if histbase==None:\n",
    "    data_hist=t.loc[setselect,list(set([('value',histnum),('month',histnum)]))].copy()\n",
    "    data_hist[('','hist_match')]=t[('month',histnum)].notnull()\n",
    "    data_hist=data_hist.drop([('month',histnum)],axis=1)\n",
    "\n",
    "# Drop 0 level and add company name:\n",
    "data_hist=data_hist.droplevel(axis=1,level=0)\n",
    "data_hist=data_hist.merge(dill.load(open('sic_codes.pkl','rb')),how='left',left_index=True,right_index=True)\n",
    "data_hist=data_hist.droplevel(axis=0,level=0)\n",
    "\n",
    "# Define variables to be charted:\n",
    "h1=tag2label[histnum]\n",
    "if histbase!=None:\n",
    "    h2=tag2label[histbase]\n",
    "hy='Fiscal Years'\n",
    "if histbase!=None:\n",
    "    hvar=h1+' Per '+h2\n",
    "else:\n",
    "    hvar=h1\n",
    "data_hist.loc[data_hist['hist_match'],h1]=data_hist[histnum]\n",
    "if histbase!=None:\n",
    "    data_hist.loc[data_hist['hist_match'],h2]=data_hist[histbase]\n",
    "data_hist['yearc']=data_hist.index.get_level_values('year').astype('str')\n",
    "data_hist.loc[data_hist['hist_match'],hy]=data_hist['yearc']\n",
    "\n",
    "# Sort years:\n",
    "data_hist=data_hist.sort_values('year',ascending=True)\n",
    "\n",
    "#Define trendline variable:\n",
    "if histbase!=None:\n",
    "    data_hist[hvar]=data_hist[h1]/data_hist[h2]\n",
    "else:\n",
    "    data_hist[hvar]=data_hist[h1]\n",
    "data_hist.loc[data_hist['hist_match']==0,hvar]=None\n",
    "\n",
    "#Add string formatted labels:\n",
    "hvarlabel='Value'\n",
    "if histbase!=None:\n",
    "    data_hist[hvarlabel]=data_hist[hvar].map(lambda x: \"{:,.2f}\".format(x))\n",
    "elif data_hist[hvar].mean()>1:\n",
    "    data_hist[hvarlabel]=data_hist[hvar].map(lambda x: \"${:,.0f}\".format(x))\n",
    "else:\n",
    "    data_hist[hvarlabel]=data_hist[hvar].map(lambda x:100*x).map(lambda x: \"{:,.2f}%\".format(x))\n",
    "\n",
    "# ALTAIR Chart\n",
    "\n",
    "hscale='linear'\n",
    "\n",
    "trend = alt.Chart(data_hist, title=data_hist['name'].values[0],width=600, height=200).mark_line().encode(\n",
    "    alt.Y(f'{hvar}:Q',scale=alt.Scale(type=hscale)),\n",
    "    x = hy\n",
    ")\n",
    "points = alt.Chart(data_hist,width=600, height=200).mark_point(filled=True,size=100).encode(\n",
    "    alt.Y(f'{hvar}',scale=alt.Scale(type=hscale)),\n",
    "    x = hy,tooltip=[hvarlabel,hy]\n",
    ")\n",
    "plot=trend+points\n",
    "plot.to_json()\n",
    "f'trends.json?h1={h1}&h2={h2}&{yearquery}&ticker={tic}'\n",
    "plot"
   ]
  },
  {
   "cell_type": "code",
   "execution_count": 183,
   "metadata": {},
   "outputs": [],
   "source": [
    "# Load needed files\n",
    "t=dill.load(open('t.pkl','rb'))\n",
    "tag2label=dill.load(open('tag2label.pkl','rb'))\n",
    "tickers=pd.read_table('tickers.txt')\n",
    "tickers=tickers.set_index('cik')\n",
    "    \n",
    "ticik=tickers[tickers['ticker']==tic].index.values[0]\n",
    "setselect=(t.index.get_level_values('year').isin(years) & (t.index.get_level_values('cik')==ticik))\n",
    "    "
   ]
  },
  {
   "cell_type": "code",
   "execution_count": 185,
   "metadata": {},
   "outputs": [],
   "source": [
    "if histbase!=None:\n",
    "    data_hist=t.loc[setselect,list(set([('value',histnum),('value',histbase),('month',histnum),('month',histbase)]))].copy()\n",
    "    data_hist[('','hist_match')]=(t[('month',histnum)]==t[('month',histbase)])\n",
    "    data_hist=data_hist.drop([('month',histnum),('month',histbase)],axis=1)    \n",
    "if histbase==None:\n",
    "    data_hist=t.loc[setselect,list(set([('value',histnum),('month',histnum)]))].copy()\n",
    "    data_hist[('','hist_match')]=t[('month',histnum)].notnull()\n",
    "    data_hist=data_hist.drop([('month',histnum)],axis=1)\n",
    "\n",
    "data_hist=data_hist.droplevel(axis=1,level=0)\n",
    "data_hist=data_hist.merge(dill.load(open('sic_codes.pkl','rb')),how='left',left_index=True,right_index=True)\n",
    "data_hist=data_hist.droplevel(axis=0,level=0)\n",
    "\n",
    "# Define variables to be aggregated:\n",
    "h1=tag2label[histnum]\n",
    "if histbase!=None:\n",
    "    h2=tag2label[histbase]\n",
    "hy='Fiscal Years (histogram)'\n",
    "if histbase!=None:\n",
    "    hvar=h1+' Per '+h2\n",
    "else:\n",
    "    hvar=h1\n",
    "\n",
    "data_hist.loc[data_hist['hist_match'],h1]=data_hist[histnum]\n",
    "if histbase!=None:\n",
    "    data_hist.loc[data_hist['hist_match'],h2]=data_hist[histbase]\n",
    "data_hist['yearc']=data_hist.index.get_level_values('year').astype('str')\n",
    "data_hist.loc[data_hist['hist_match'],hy]=data_hist['yearc']\n",
    "\n",
    "data_hist=data_hist.sort_values('year',ascending=False)\n"
   ]
  },
  {
   "cell_type": "code",
   "execution_count": 189,
   "metadata": {},
   "outputs": [
    {
     "data": {
      "text/html": [
       "<div>\n",
       "<style scoped>\n",
       "    .dataframe tbody tr th:only-of-type {\n",
       "        vertical-align: middle;\n",
       "    }\n",
       "\n",
       "    .dataframe tbody tr th {\n",
       "        vertical-align: top;\n",
       "    }\n",
       "\n",
       "    .dataframe thead th {\n",
       "        text-align: right;\n",
       "    }\n",
       "</style>\n",
       "<table border=\"1\" class=\"dataframe\">\n",
       "  <thead>\n",
       "    <tr style=\"text-align: right;\">\n",
       "      <th></th>\n",
       "      <th>Income Taxes Paid, Net</th>\n",
       "      <th>hist_match</th>\n",
       "      <th>sic</th>\n",
       "      <th>name</th>\n",
       "    </tr>\n",
       "    <tr>\n",
       "      <th>year</th>\n",
       "      <th></th>\n",
       "      <th></th>\n",
       "      <th></th>\n",
       "      <th></th>\n",
       "    </tr>\n",
       "  </thead>\n",
       "  <tbody>\n",
       "    <tr>\n",
       "      <th>2016</th>\n",
       "      <td>1.044400e+10</td>\n",
       "      <td>True</td>\n",
       "      <td>3571.0</td>\n",
       "      <td>APPLE INC</td>\n",
       "    </tr>\n",
       "    <tr>\n",
       "      <th>2017</th>\n",
       "      <td>1.159100e+10</td>\n",
       "      <td>True</td>\n",
       "      <td>3571.0</td>\n",
       "      <td>APPLE INC</td>\n",
       "    </tr>\n",
       "    <tr>\n",
       "      <th>2018</th>\n",
       "      <td>1.041700e+10</td>\n",
       "      <td>True</td>\n",
       "      <td>3571.0</td>\n",
       "      <td>APPLE INC</td>\n",
       "    </tr>\n",
       "    <tr>\n",
       "      <th>2019</th>\n",
       "      <td>1.526300e+10</td>\n",
       "      <td>True</td>\n",
       "      <td>3571.0</td>\n",
       "      <td>APPLE INC</td>\n",
       "    </tr>\n",
       "  </tbody>\n",
       "</table>\n",
       "</div>"
      ],
      "text/plain": [
       "      Income Taxes Paid, Net  hist_match     sic       name\n",
       "year                                                       \n",
       "2016            1.044400e+10        True  3571.0  APPLE INC\n",
       "2017            1.159100e+10        True  3571.0  APPLE INC\n",
       "2018            1.041700e+10        True  3571.0  APPLE INC\n",
       "2019            1.526300e+10        True  3571.0  APPLE INC"
      ]
     },
     "execution_count": 189,
     "metadata": {},
     "output_type": "execute_result"
    }
   ],
   "source": [
    "gg=data_hist.groupby('year').agg({h1:'sum','hist_match':'sum','sic':'first','name':'first'})\n",
    "gg"
   ]
  },
  {
   "cell_type": "code",
   "execution_count": 153,
   "metadata": {},
   "outputs": [],
   "source": [
    "if histbase!=None:\n",
    "    data_hist[hvar]=data_hist[h1]/data_hist[h2]\n",
    "else:\n",
    "    data_hist[hvar]=data_hist[h1]\n",
    "data_hist.loc[data_hist['hist_match']==0,hvar]=None\n",
    "\n",
    "hvarlabel='Histogram value'\n",
    "if histbase!=None:\n",
    "    data_hist[hvarlabel]=data_hist[hvar].map(lambda x: \"{:,.2f}\".format(x))\n",
    "elif data_hist[hvar].mean()>1:\n",
    "    data_hist[hvarlabel]=data_hist[hvar].map(lambda x: \"${:,.0f}\".format(x))\n",
    "else:\n",
    "    data_hist[hvarlabel]=data_hist[hvar].map(lambda x:100*x).map(lambda x: \"{:,.2f}%\".format(x))\n"
   ]
  },
  {
   "cell_type": "code",
   "execution_count": 174,
   "metadata": {},
   "outputs": [
    {
     "data": {
      "text/html": [
       "\n",
       "<div id=\"altair-viz-dc53610726b5467aa4eb1fb841e15190\"></div>\n",
       "<script type=\"text/javascript\">\n",
       "  (function(spec, embedOpt){\n",
       "    let outputDiv = document.currentScript.previousElementSibling;\n",
       "    if (outputDiv.id !== \"altair-viz-dc53610726b5467aa4eb1fb841e15190\") {\n",
       "      outputDiv = document.getElementById(\"altair-viz-dc53610726b5467aa4eb1fb841e15190\");\n",
       "    }\n",
       "    const paths = {\n",
       "      \"vega\": \"https://cdn.jsdelivr.net/npm//vega@5?noext\",\n",
       "      \"vega-lib\": \"https://cdn.jsdelivr.net/npm//vega-lib?noext\",\n",
       "      \"vega-lite\": \"https://cdn.jsdelivr.net/npm//vega-lite@4.8.1?noext\",\n",
       "      \"vega-embed\": \"https://cdn.jsdelivr.net/npm//vega-embed@6?noext\",\n",
       "    };\n",
       "\n",
       "    function loadScript(lib) {\n",
       "      return new Promise(function(resolve, reject) {\n",
       "        var s = document.createElement('script');\n",
       "        s.src = paths[lib];\n",
       "        s.async = true;\n",
       "        s.onload = () => resolve(paths[lib]);\n",
       "        s.onerror = () => reject(`Error loading script: ${paths[lib]}`);\n",
       "        document.getElementsByTagName(\"head\")[0].appendChild(s);\n",
       "      });\n",
       "    }\n",
       "\n",
       "    function showError(err) {\n",
       "      outputDiv.innerHTML = `<div class=\"error\" style=\"color:red;\">${err}</div>`;\n",
       "      throw err;\n",
       "    }\n",
       "\n",
       "    function displayChart(vegaEmbed) {\n",
       "      vegaEmbed(outputDiv, spec, embedOpt)\n",
       "        .catch(err => showError(`Javascript Error: ${err.message}<br>This usually means there's a typo in your chart specification. See the javascript console for the full traceback.`));\n",
       "    }\n",
       "\n",
       "    if(typeof define === \"function\" && define.amd) {\n",
       "      requirejs.config({paths});\n",
       "      require([\"vega-embed\"], displayChart, err => showError(`Error loading script: ${err.message}`));\n",
       "    } else if (typeof vegaEmbed === \"function\") {\n",
       "      displayChart(vegaEmbed);\n",
       "    } else {\n",
       "      loadScript(\"vega\")\n",
       "        .then(() => loadScript(\"vega-lite\"))\n",
       "        .then(() => loadScript(\"vega-embed\"))\n",
       "        .catch(showError)\n",
       "        .then(() => displayChart(vegaEmbed));\n",
       "    }\n",
       "  })({\"config\": {\"view\": {\"continuousWidth\": 400, \"continuousHeight\": 300}}, \"layer\": [{\"mark\": \"line\", \"encoding\": {\"x\": {\"type\": \"nominal\", \"field\": \"Fiscal Years (histogram)\"}, \"y\": {\"type\": \"quantitative\", \"field\": \"Income Taxes Paid, Net Per Taxable Income\", \"scale\": {\"type\": \"linear\"}}}, \"height\": 200, \"title\": \"AMAZON COM INC\", \"width\": 600}, {\"mark\": {\"type\": \"point\", \"filled\": true, \"size\": 100}, \"encoding\": {\"tooltip\": [{\"type\": \"nominal\", \"field\": \"Histogram value\"}, {\"type\": \"nominal\", \"field\": \"Fiscal Years (histogram)\"}], \"x\": {\"type\": \"nominal\", \"field\": \"Fiscal Years (histogram)\"}, \"y\": {\"type\": \"quantitative\", \"field\": \"Income Taxes Paid, Net Per Taxable Income\", \"scale\": {\"type\": \"linear\"}}}, \"height\": 200, \"width\": 600}], \"data\": {\"name\": \"data-bdf67083c78328e525313051b6c43e4c\"}, \"$schema\": \"https://vega.github.io/schema/vega-lite/v4.8.1.json\", \"datasets\": {\"data-bdf67083c78328e525313051b6c43e4c\": [{\"TaxableIncome\": 13976000000.0, \"IncomeTaxesPaidNet\": -881000000.0, \"hist_match\": true, \"name\": \"AMAZON COM INC\", \"sic\": 5961.0, \"Income Taxes Paid, Net\": -881000000.0, \"Taxable Income\": 13976000000.0, \"yearc\": \"2019\", \"Fiscal Years (histogram)\": \"2019\", \"Income Taxes Paid, Net Per Taxable Income\": -0.06303663423010876, \"Histogram value\": \"-0.06\"}, {\"TaxableIncome\": 11261000000.0, \"IncomeTaxesPaidNet\": 1184000000.0, \"hist_match\": true, \"name\": \"AMAZON COM INC\", \"sic\": 5961.0, \"Income Taxes Paid, Net\": 1184000000.0, \"Taxable Income\": 11261000000.0, \"yearc\": \"2018\", \"Fiscal Years (histogram)\": \"2018\", \"Income Taxes Paid, Net Per Taxable Income\": 0.10514163928603143, \"Histogram value\": \"0.11\"}, {\"TaxableIncome\": 3806000000.0, \"IncomeTaxesPaidNet\": 957000000.0, \"hist_match\": true, \"name\": \"AMAZON COM INC\", \"sic\": 5961.0, \"Income Taxes Paid, Net\": 957000000.0, \"Taxable Income\": 3806000000.0, \"yearc\": \"2017\", \"Fiscal Years (histogram)\": \"2017\", \"Income Taxes Paid, Net Per Taxable Income\": 0.2514450867052023, \"Histogram value\": \"0.25\"}, {\"TaxableIncome\": 3892000000.0, \"IncomeTaxesPaidNet\": 412000000.0, \"hist_match\": true, \"name\": \"AMAZON COM INC\", \"sic\": 5961.0, \"Income Taxes Paid, Net\": 412000000.0, \"Taxable Income\": 3892000000.0, \"yearc\": \"2016\", \"Fiscal Years (histogram)\": \"2016\", \"Income Taxes Paid, Net Per Taxable Income\": 0.10585817060637205, \"Histogram value\": \"0.11\"}]}}, {\"mode\": \"vega-lite\"});\n",
       "</script>"
      ],
      "text/plain": [
       "alt.LayerChart(...)"
      ]
     },
     "execution_count": 174,
     "metadata": {},
     "output_type": "execute_result"
    }
   ],
   "source": [
    "hscale='linear'\n",
    "\n",
    "trend = alt.Chart(data_hist, title=data_hist['name'].values[0],width=600, height=200).mark_line().encode(\n",
    "    alt.Y(f'{hvar}:Q',scale=alt.Scale(type=hscale)),\n",
    "    x = hy\n",
    ")\n",
    "points = alt.Chart(data_hist,width=600, height=200).mark_point(filled=True,size=100).encode(\n",
    "    alt.Y(f'{hvar}',scale=alt.Scale(type=hscale)),\n",
    "    x = hy,tooltip=[hvarlabel,hy]\n",
    ")\n",
    "trend+points"
   ]
  },
  {
   "cell_type": "code",
   "execution_count": 181,
   "metadata": {},
   "outputs": [
    {
     "data": {
      "text/plain": [
       "(4, 11)"
      ]
     },
     "execution_count": 181,
     "metadata": {},
     "output_type": "execute_result"
    }
   ],
   "source": [
    "\n",
    "data_hist.shape\n"
   ]
  },
  {
   "cell_type": "code",
   "execution_count": 190,
   "metadata": {},
   "outputs": [
    {
     "data": {
      "text/html": [
       "<div>\n",
       "<style scoped>\n",
       "    .dataframe tbody tr th:only-of-type {\n",
       "        vertical-align: middle;\n",
       "    }\n",
       "\n",
       "    .dataframe tbody tr th {\n",
       "        vertical-align: top;\n",
       "    }\n",
       "\n",
       "    .dataframe thead th {\n",
       "        text-align: right;\n",
       "    }\n",
       "</style>\n",
       "<table border=\"1\" class=\"dataframe\">\n",
       "  <thead>\n",
       "    <tr style=\"text-align: right;\">\n",
       "      <th></th>\n",
       "      <th>TaxableIncome</th>\n",
       "      <th>IncomeTaxesPaidNet</th>\n",
       "      <th>hist_match</th>\n",
       "      <th>name</th>\n",
       "      <th>sic</th>\n",
       "      <th>Income Taxes Paid, Net</th>\n",
       "      <th>Taxable Income</th>\n",
       "      <th>yearc</th>\n",
       "      <th>Fiscal Years (histogram)</th>\n",
       "    </tr>\n",
       "    <tr>\n",
       "      <th>year</th>\n",
       "      <th></th>\n",
       "      <th></th>\n",
       "      <th></th>\n",
       "      <th></th>\n",
       "      <th></th>\n",
       "      <th></th>\n",
       "      <th></th>\n",
       "      <th></th>\n",
       "      <th></th>\n",
       "    </tr>\n",
       "  </thead>\n",
       "  <tbody>\n",
       "    <tr>\n",
       "      <th>2019</th>\n",
       "      <td>6.573700e+10</td>\n",
       "      <td>1.526300e+10</td>\n",
       "      <td>True</td>\n",
       "      <td>APPLE INC</td>\n",
       "      <td>3571.0</td>\n",
       "      <td>1.526300e+10</td>\n",
       "      <td>6.573700e+10</td>\n",
       "      <td>2019</td>\n",
       "      <td>2019</td>\n",
       "    </tr>\n",
       "    <tr>\n",
       "      <th>2018</th>\n",
       "      <td>7.290300e+10</td>\n",
       "      <td>1.041700e+10</td>\n",
       "      <td>True</td>\n",
       "      <td>APPLE INC</td>\n",
       "      <td>3571.0</td>\n",
       "      <td>1.041700e+10</td>\n",
       "      <td>7.290300e+10</td>\n",
       "      <td>2018</td>\n",
       "      <td>2018</td>\n",
       "    </tr>\n",
       "    <tr>\n",
       "      <th>2017</th>\n",
       "      <td>6.408900e+10</td>\n",
       "      <td>1.159100e+10</td>\n",
       "      <td>True</td>\n",
       "      <td>APPLE INC</td>\n",
       "      <td>3571.0</td>\n",
       "      <td>1.159100e+10</td>\n",
       "      <td>6.408900e+10</td>\n",
       "      <td>2017</td>\n",
       "      <td>2017</td>\n",
       "    </tr>\n",
       "    <tr>\n",
       "      <th>2016</th>\n",
       "      <td>6.137200e+10</td>\n",
       "      <td>1.044400e+10</td>\n",
       "      <td>True</td>\n",
       "      <td>APPLE INC</td>\n",
       "      <td>3571.0</td>\n",
       "      <td>1.044400e+10</td>\n",
       "      <td>6.137200e+10</td>\n",
       "      <td>2016</td>\n",
       "      <td>2016</td>\n",
       "    </tr>\n",
       "  </tbody>\n",
       "</table>\n",
       "</div>"
      ],
      "text/plain": [
       "      TaxableIncome  IncomeTaxesPaidNet  hist_match       name     sic  \\\n",
       "year                                                                     \n",
       "2019   6.573700e+10        1.526300e+10        True  APPLE INC  3571.0   \n",
       "2018   7.290300e+10        1.041700e+10        True  APPLE INC  3571.0   \n",
       "2017   6.408900e+10        1.159100e+10        True  APPLE INC  3571.0   \n",
       "2016   6.137200e+10        1.044400e+10        True  APPLE INC  3571.0   \n",
       "\n",
       "      Income Taxes Paid, Net  Taxable Income yearc Fiscal Years (histogram)  \n",
       "year                                                                         \n",
       "2019            1.526300e+10    6.573700e+10  2019                     2019  \n",
       "2018            1.041700e+10    7.290300e+10  2018                     2018  \n",
       "2017            1.159100e+10    6.408900e+10  2017                     2017  \n",
       "2016            1.044400e+10    6.137200e+10  2016                     2016  "
      ]
     },
     "execution_count": 190,
     "metadata": {},
     "output_type": "execute_result"
    }
   ],
   "source": [
    "data_hist\n"
   ]
  },
  {
   "cell_type": "code",
   "execution_count": 228,
   "metadata": {},
   "outputs": [
    {
     "data": {
      "text/plain": [
       "year\n",
       "2018    AMAZON COM INC\n",
       "2019    AMAZON COM INC\n",
       "Name: name, dtype: object"
      ]
     },
     "execution_count": 228,
     "metadata": {},
     "output_type": "execute_result"
    }
   ],
   "source": [
    "data_hist.iloc[:,3]"
   ]
  },
  {
   "cell_type": "code",
   "execution_count": 224,
   "metadata": {},
   "outputs": [
    {
     "data": {
      "text/plain": [
       "'{\\n  \"$schema\": \"https://vega.github.io/schema/vega-lite/v4.8.1.json\",\\n  \"config\": {\\n    \"view\": {\\n      \"continuousHeight\": 300,\\n      \"continuousWidth\": 400\\n    }\\n  },\\n  \"data\": {\\n    \"name\": \"data-03fd40aae2b11f371f887b0927af674e\"\\n  },\\n  \"datasets\": {\\n    \"data-03fd40aae2b11f371f887b0927af674e\": [\\n      {\\n        \"Domestic Income Tax Expense (Benefit)\": 436000000.0,\\n        \"Domestic Income Tax Expense (Benefit) Per Taxable Income\": 0.03871769825059941,\\n        \"DomesticIncomeTaxExpenseBenefit\": 436000000.0,\\n        \"Fiscal Years\": \"2018\",\\n        \"Taxable Income\": 11261000000.0,\\n        \"TaxableIncome\": 11261000000.0,\\n        \"Trendline value\": \"0.04\",\\n        \"hist_match\": true,\\n        \"name\": \"AMAZON COM INC\",\\n        \"sic\": 5961.0,\\n        \"yearc\": \"2018\"\\n      },\\n      {\\n        \"Domestic Income Tax Expense (Benefit)\": 1076000000.0,\\n        \"Domestic Income Tax Expense (Benefit) Per Taxable Income\": 0.07698912421293647,\\n        \"DomesticIncomeTaxExpenseBenefit\": 1076000000.0,\\n        \"Fiscal Years\": \"2019\",\\n        \"Taxable Income\": 13976000000.0,\\n        \"TaxableIncome\": 13976000000.0,\\n        \"Trendline value\": \"0.08\",\\n        \"hist_match\": true,\\n        \"name\": \"AMAZON COM INC\",\\n        \"sic\": 5961.0,\\n        \"yearc\": \"2019\"\\n      }\\n    ]\\n  },\\n  \"layer\": [\\n    {\\n      \"encoding\": {\\n        \"x\": {\\n          \"field\": \"Fiscal Years\",\\n          \"type\": \"nominal\"\\n        },\\n        \"y\": {\\n          \"field\": \"Domestic Income Tax Expense (Benefit) Per Taxable Income\",\\n          \"scale\": {\\n            \"type\": \"linear\"\\n          },\\n          \"type\": \"quantitative\"\\n        }\\n      },\\n      \"height\": 200,\\n      \"mark\": \"line\",\\n      \"title\": \"AMAZON COM INC\",\\n      \"width\": 600\\n    },\\n    {\\n      \"encoding\": {\\n        \"tooltip\": [\\n          {\\n            \"field\": \"Trendline value\",\\n            \"type\": \"nominal\"\\n          },\\n          {\\n            \"field\": \"Fiscal Years\",\\n            \"type\": \"nominal\"\\n          }\\n        ],\\n        \"x\": {\\n          \"field\": \"Fiscal Years\",\\n          \"type\": \"nominal\"\\n        },\\n        \"y\": {\\n          \"field\": \"Domestic Income Tax Expense (Benefit) Per Taxable Income\",\\n          \"scale\": {\\n            \"type\": \"linear\"\\n          },\\n          \"type\": \"quantitative\"\\n        }\\n      },\\n      \"height\": 200,\\n      \"mark\": {\\n        \"filled\": true,\\n        \"size\": 100,\\n        \"type\": \"point\"\\n      },\\n      \"width\": 600\\n    }\\n  ]\\n}'"
      ]
     },
     "execution_count": 224,
     "metadata": {},
     "output_type": "execute_result"
    }
   ],
   "source": [
    "    # Load needed files\n",
    "    t=dill.load(open('t.pkl','rb'))\n",
    "    tag2label=dill.load(open('tag2label.pkl','rb'))\n",
    "    tickers=pd.read_table('tickers.txt')\n",
    "    tickers=tickers.set_index('cik')\n",
    "\n",
    "    # Sample values:\n",
    "    years=[2018,2019]\n",
    "    histnum='DomesticIncomeTaxExpenseBenefit'\n",
    "    histbase='TaxableIncome'   \n",
    "    tic='amzn'\n",
    "    \n",
    "    # Year selection - checklists:\n",
    "#    years = request.args.getlist('yearlist')\n",
    "#    years=[int(y) for y in years]         \n",
    "\n",
    "    # Variable selection\n",
    "#    histnum=request.args.get('h1','DomesticIncomeTaxExpenseBenefit')\n",
    "#    histbase=request.args.get('h2',None)\n",
    "#    if histbase=='None':\n",
    "#        histbase=None\n",
    "#    tic=request.args.get('ticker',None) #User input\n",
    "\n",
    "    #Obtain cik for selected ticker:\n",
    "    if tic=='':\n",
    "        ticik=None\n",
    "    else:\n",
    "        try:\n",
    "            ticik=tickers[tickers['ticker']==tic].index.values[0]\n",
    "        except:\n",
    "            ticik=None\n",
    "\n",
    "    setselect=(t.index.get_level_values('year').isin(years) & (t.index.get_level_values('cik')==ticik))\n",
    "\n",
    "    # Create dataset to be inserted in Altair\n",
    "    if histbase!=None:\n",
    "        data_hist=t.loc[setselect,[('value',histnum),('value',histbase),('month',histnum),('month',histbase)]].copy()\n",
    "        data_hist[('','hist_match')]=(t[('month',histnum)]==t[('month',histbase)])\n",
    "        data_hist=data_hist.drop([('month',histnum),('month',histbase)],axis=1)    \n",
    "    if histbase==None:\n",
    "        data_hist=t.loc[setselect,list(set([('value',histnum),('month',histnum)]))].copy()\n",
    "        data_hist[('','hist_match')]=t[('month',histnum)].notnull()\n",
    "        data_hist=data_hist.drop([('month',histnum)],axis=1)\n",
    "\n",
    "    # Drop 0 level and add company name:\n",
    "    data_hist=data_hist.droplevel(axis=1,level=0)\n",
    "    data_hist=data_hist.merge(dill.load(open('sic_codes.pkl','rb')),how='left',left_index=True,right_index=True)\n",
    "    data_hist=data_hist.droplevel(axis=0,level=0)\n",
    "    \n",
    "    # Define variables to be charted:\n",
    "    h1=tag2label[histnum]\n",
    "    if histbase!=None:\n",
    "        h2=tag2label[histbase]\n",
    "    hy='Fiscal Years'\n",
    "    if histbase!=None:\n",
    "        hvar=h1+' Per '+h2\n",
    "    else:\n",
    "        hvar=h1\n",
    "    data_hist.loc[data_hist['hist_match'],h1]=data_hist[histnum]\n",
    "    if histbase!=None:\n",
    "        data_hist.loc[data_hist['hist_match'],h2]=data_hist[histbase]\n",
    "    data_hist['yearc']=data_hist.index.get_level_values('year').astype('str')\n",
    "    data_hist.loc[data_hist['hist_match'],hy]=data_hist['yearc']\n",
    "\n",
    "    # Sort years:\n",
    "    data_hist=data_hist.sort_values('year',ascending=True)\n",
    "\n",
    "    #Define trendline variable:\n",
    "    if histbase!=None:\n",
    "        data_hist[hvar]=data_hist[h1]/data_hist[h2]\n",
    "    else:\n",
    "        data_hist[hvar]=data_hist[h1]\n",
    "    data_hist.loc[data_hist['hist_match']==0,hvar]=None\n",
    "\n",
    "    #Add string formatted labels:\n",
    "    hvarlabel='Trendline value'\n",
    "    if histbase!=None:\n",
    "        data_hist[hvarlabel]=data_hist[hvar].map(lambda x: \"{:,.2f}\".format(x))\n",
    "    elif data_hist[hvar].mean()>1:\n",
    "        data_hist[hvarlabel]=data_hist[hvar].map(lambda x: \"${:,.0f}\".format(x))\n",
    "    else:\n",
    "        data_hist[hvarlabel]=data_hist[hvar].map(lambda x:100*x).map(lambda x: \"{:,.2f}%\".format(x))\n",
    "\n",
    "    # ALTAIR Chart\n",
    "    \n",
    "    trend = alt.Chart(data_hist, title=data_hist['name'].values[0],width=600, height=200).mark_line().encode(\n",
    "        alt.Y(f'{hvar}:Q',scale=alt.Scale(type='linear')),\n",
    "        x = hy\n",
    "    )\n",
    "    points = alt.Chart(data_hist,width=600, height=200).mark_point(filled=True,size=100).encode(\n",
    "        alt.Y(f'{hvar}',scale=alt.Scale(type='linear')),\n",
    "        x = hy,tooltip=[hvarlabel,hy]\n",
    "    )\n",
    "    plot=trend+points\n",
    "plot.to_json()"
   ]
  },
  {
   "cell_type": "code",
   "execution_count": 215,
   "metadata": {},
   "outputs": [],
   "source": [
    "    #Define trendline variable:\n",
    "    if histbase!=None:\n",
    "        datahs[hvar]=datahs[h1]/datahs[h2]\n",
    "    else:\n",
    "        datahs[hvar]=datahs[h1]\n",
    "    datahs.loc[datahs['hist_match']==0,hvar]=None\n",
    "    \n",
    "        #Add string formatted labels:\n",
    "    hvarlabel='Trendline value'\n",
    "    if histbase!=None:\n",
    "        datahs[hvarlabel]=datahs[hvar].map(lambda x: \"{:,.2f}\".format(x))\n",
    "    elif datahs[hvar].mean()>1:\n",
    "        datahs[hvarlabel]=datahs[hvar].map(lambda x: \"${:,.0f}\".format(x))\n",
    "    else:\n",
    "        datahs[hvarlabel]=datahs[hvar].map(lambda x:100*x).map(lambda x: \"{:,.2f}%\".format(x))\n",
    "\n"
   ]
  },
  {
   "cell_type": "code",
   "execution_count": 219,
   "metadata": {},
   "outputs": [],
   "source": [
    "    trend = alt.Chart(datahs, title=datahs['name'].values[0],width=600, height=200).mark_line().encode(\n",
    "        alt.Y(f'{hvar}:Q',scale=alt.Scale(type='linear')),\n",
    "        x = hy\n",
    "    )\n",
    "#    points = alt.Chart(datahs,width=600, height=200).mark_point(filled=True,size=100).encode(\n",
    "#        alt.Y(f'{hvar}',scale=alt.Scale(type='linear')),\n",
    "#        x = hy,tooltip=[hvarlabel,hy]\n",
    "#    )"
   ]
  },
  {
   "cell_type": "code",
   "execution_count": 221,
   "metadata": {},
   "outputs": [
    {
     "data": {
      "text/html": [
       "<div>\n",
       "<style scoped>\n",
       "    .dataframe tbody tr th:only-of-type {\n",
       "        vertical-align: middle;\n",
       "    }\n",
       "\n",
       "    .dataframe tbody tr th {\n",
       "        vertical-align: top;\n",
       "    }\n",
       "\n",
       "    .dataframe thead th {\n",
       "        text-align: right;\n",
       "    }\n",
       "</style>\n",
       "<table border=\"1\" class=\"dataframe\">\n",
       "  <thead>\n",
       "    <tr style=\"text-align: right;\">\n",
       "      <th></th>\n",
       "      <th>Domestic Income Tax Expense (Benefit)</th>\n",
       "      <th>Taxable Income</th>\n",
       "      <th>hist_match</th>\n",
       "      <th>sic</th>\n",
       "      <th>name</th>\n",
       "      <th>Domestic Income Tax Expense (Benefit) Per Taxable Income</th>\n",
       "      <th>Trendline value</th>\n",
       "    </tr>\n",
       "    <tr>\n",
       "      <th>year</th>\n",
       "      <th></th>\n",
       "      <th></th>\n",
       "      <th></th>\n",
       "      <th></th>\n",
       "      <th></th>\n",
       "      <th></th>\n",
       "      <th></th>\n",
       "    </tr>\n",
       "  </thead>\n",
       "  <tbody>\n",
       "    <tr>\n",
       "      <th>2018</th>\n",
       "      <td>4.360000e+08</td>\n",
       "      <td>1.126100e+10</td>\n",
       "      <td>True</td>\n",
       "      <td>5961.0</td>\n",
       "      <td>AMAZON COM INC</td>\n",
       "      <td>0.038718</td>\n",
       "      <td>0.04</td>\n",
       "    </tr>\n",
       "    <tr>\n",
       "      <th>2019</th>\n",
       "      <td>1.076000e+09</td>\n",
       "      <td>1.397600e+10</td>\n",
       "      <td>True</td>\n",
       "      <td>5961.0</td>\n",
       "      <td>AMAZON COM INC</td>\n",
       "      <td>0.076989</td>\n",
       "      <td>0.08</td>\n",
       "    </tr>\n",
       "  </tbody>\n",
       "</table>\n",
       "</div>"
      ],
      "text/plain": [
       "      Domestic Income Tax Expense (Benefit)  Taxable Income  hist_match  \\\n",
       "year                                                                      \n",
       "2018                           4.360000e+08    1.126100e+10        True   \n",
       "2019                           1.076000e+09    1.397600e+10        True   \n",
       "\n",
       "         sic            name  \\\n",
       "year                           \n",
       "2018  5961.0  AMAZON COM INC   \n",
       "2019  5961.0  AMAZON COM INC   \n",
       "\n",
       "      Domestic Income Tax Expense (Benefit) Per Taxable Income Trendline value  \n",
       "year                                                                            \n",
       "2018                                           0.038718                   0.04  \n",
       "2019                                           0.076989                   0.08  "
      ]
     },
     "execution_count": 221,
     "metadata": {},
     "output_type": "execute_result"
    }
   ],
   "source": [
    "datahs"
   ]
  },
  {
   "cell_type": "code",
   "execution_count": 232,
   "metadata": {},
   "outputs": [],
   "source": [
    "# Get request to read in form entries\n",
    "yearlist=['2018','2019']\n",
    "h1='DomesticIncomeTaxExpenseBenefit'\n",
    "h2='TaxableIncome'   \n",
    "tic='amzn'\n",
    "\n",
    "# Define vars for json external file method\n",
    "tag2label=dill.load(open('tag2label.pkl','rb'))\n",
    "h1n=tag2label[h1]\n",
    "if h2!=None:\n",
    "    h2n=tag2label[h2]\n",
    "    hvar=h1n+' Per '+h2n\n",
    "else:\n",
    "    hvar=h1n\n",
    "hvar='DomesticIncomeTaxExpenseBenefit'\n",
    "hy='Fiscal Years'\n",
    "\n",
    "# Build yearlist query string\n",
    "joiner='&yearlist='\n",
    "yearquery=joiner[1:]+joiner.join(yearlist)\n"
   ]
  },
  {
   "cell_type": "code",
   "execution_count": 241,
   "metadata": {},
   "outputs": [],
   "source": [
    "# Load needed files\n",
    "t=dill.load(open('t.pkl','rb'))\n",
    "tag2label=dill.load(open('tag2label.pkl','rb'))\n",
    "tickers=pd.read_table('tickers.txt')\n",
    "tickers=tickers.set_index('cik')\n",
    "\n",
    "# Sample values:\n",
    "years=[2018,2019]\n",
    "histnum='DomesticIncomeTaxExpenseBenefit'\n",
    "histbase=None    \n",
    "tic='amzn'\n",
    "\n",
    "# Year selection - checklists:\n",
    "#    years = request.args.getlist('yearlist')\n",
    "#    years=[int(y) for y in years]         \n",
    "\n",
    "# Variable selection\n",
    "#    histnum=request.args.get('h1','DomesticIncomeTaxExpenseBenefit')\n",
    "#    histbase=request.args.get('h2',None)\n",
    "#    if histbase=='None':\n",
    "#        histbase=None\n",
    "#    tic=request.args.get('ticker',None) #User input\n",
    "\n",
    "#Obtain cik for selected ticker:\n",
    "if tic=='':\n",
    "    ticik=None\n",
    "else:\n",
    "    try:\n",
    "        ticik=tickers[tickers['ticker']==tic].index.values[0]\n",
    "    except:\n",
    "        ticik=None\n",
    "\n",
    "setselect=(t.index.get_level_values('year').isin(years) & (t.index.get_level_values('cik')==ticik))\n",
    "\n",
    "# Create dataset to be inserted in Altair\n",
    "if histbase!=None:\n",
    "    data_hist=t.loc[setselect,[('value',histnum),('value',histbase),('month',histnum),('month',histbase)]].copy()\n",
    "    data_hist[('','hist_match')]=(t[('month',histnum)]==t[('month',histbase)])\n",
    "    data_hist=data_hist.drop([('month',histnum),('month',histbase)],axis=1)    \n",
    "if histbase==None:\n",
    "    data_hist=t.loc[setselect,list(set([('value',histnum),('month',histnum)]))].copy()\n",
    "    data_hist[('','hist_match')]=t[('month',histnum)].notnull()\n",
    "    data_hist=data_hist.drop([('month',histnum)],axis=1)\n",
    "\n",
    "# Drop 0 level and add company name:\n",
    "data_hist=data_hist.droplevel(axis=1,level=0)\n",
    "data_hist=data_hist.merge(dill.load(open('sic_codes.pkl','rb')),how='left',left_index=True,right_index=True)\n",
    "data_hist=data_hist.droplevel(axis=0,level=0)\n",
    "\n",
    "# Define variables to be charted:\n",
    "h1=tag2label[histnum]\n",
    "if histbase!=None:\n",
    "    h2=tag2label[histbase]\n",
    "hy='Fiscal Years'\n",
    "if histbase!=None:\n",
    "    hvar=h1+' Per '+h2\n",
    "else:\n",
    "    hvar=h1\n",
    "data_hist.loc[data_hist['hist_match'],h1]=data_hist[histnum]\n",
    "if histbase!=None:\n",
    "    data_hist.loc[data_hist['hist_match'],h2]=data_hist[histbase]\n",
    "data_hist['yearc']=data_hist.index.get_level_values('year').astype('str')\n",
    "data_hist.loc[data_hist['hist_match'],hy]=data_hist['yearc']\n",
    "\n",
    "# Sort years:\n",
    "data_hist=data_hist.sort_values('year',ascending=True)\n",
    "\n",
    "#Define trendline variable:\n",
    "if histbase!=None:\n",
    "    data_hist[hvar]=data_hist[h1]/data_hist[h2]\n",
    "else:\n",
    "    data_hist[hvar]=data_hist[h1]\n",
    "data_hist.loc[data_hist['hist_match']==0,hvar]=None\n",
    "\n",
    "#Add string formatted labels:\n",
    "hvarlabel='Trendline value'\n",
    "if histbase!=None:\n",
    "    data_hist[hvarlabel]=data_hist[hvar].map(lambda x: \"{:,.2f}\".format(x))\n",
    "elif data_hist[hvar].mean()>1:\n",
    "    data_hist[hvarlabel]=data_hist[hvar].map(lambda x: \"${:,.0f}\".format(x))\n",
    "else:\n",
    "    data_hist[hvarlabel]=data_hist[hvar].map(lambda x:100*x).map(lambda x: \"{:,.2f}%\".format(x))\n",
    "\n",
    "xx=data_hist.to_json(orient='records')"
   ]
  },
  {
   "cell_type": "code",
   "execution_count": 242,
   "metadata": {},
   "outputs": [
    {
     "data": {
      "text/plain": [
       "'[{\"DomesticIncomeTaxExpenseBenefit\":436000000.0,\"hist_match\":true,\"name\":\"AMAZON COM INC\",\"sic\":5961.0,\"Domestic Income Tax Expense (Benefit)\":436000000.0,\"yearc\":\"2018\",\"Fiscal Years\":\"2018\",\"Trendline value\":\"$436,000,000\"},{\"DomesticIncomeTaxExpenseBenefit\":1076000000.0,\"hist_match\":true,\"name\":\"AMAZON COM INC\",\"sic\":5961.0,\"Domestic Income Tax Expense (Benefit)\":1076000000.0,\"yearc\":\"2019\",\"Fiscal Years\":\"2019\",\"Trendline value\":\"$1,076,000,000\"}]'"
      ]
     },
     "execution_count": 242,
     "metadata": {},
     "output_type": "execute_result"
    }
   ],
   "source": [
    "xx"
   ]
  },
  {
   "cell_type": "code",
   "execution_count": 251,
   "metadata": {},
   "outputs": [],
   "source": [
    "# Sample values:\n",
    "years=[2018,2019]\n",
    "histnum='DomesticIncomeTaxExpenseBenefit'\n",
    "histbase=None    \n",
    "tic='amzn'    \n",
    "\n",
    "# Load necessary files:\n",
    "t=dill.load(open('t.pkl','rb'))\n",
    "tag2label=dill.load(open('tag2label.pkl','rb'))\n",
    "tickers=pd.read_table('tickers.txt')\n",
    "tickers=tickers.set_index('cik')\n",
    "\n",
    "\n",
    "#Obtain cik for selected ticker:\n",
    "if tic=='':\n",
    "    ticik=None\n",
    "else:\n",
    "    try:\n",
    "        ticik=tickers[tickers['ticker']==tic].index.values[0]\n",
    "    except:\n",
    "        ticik=None    \n",
    "\n",
    "setselect=(t.index.get_level_values('year').isin(years) & (t.index.get_level_values('cik')==ticik))\n",
    "\n",
    "# Create dataset to be inserted in Altair\n",
    "if histbase!=None:\n",
    "    data_hist=t.loc[setselect,[('value',histnum),('value',histbase),('month',histnum),('month',histbase)]].copy()\n",
    "    data_hist[('','hist_match')]=(t[('month',histnum)]==t[('month',histbase)])\n",
    "    data_hist=data_hist.drop([('month',histnum),('month',histbase)],axis=1)    \n",
    "if histbase==None:\n",
    "    data_hist=t.loc[setselect,list(set([('value',histnum),('month',histnum)]))].copy()\n",
    "    data_hist[('','hist_match')]=t[('month',histnum)].notnull()\n",
    "    data_hist=data_hist.drop([('month',histnum)],axis=1)\n",
    "\n",
    "# Drop 0 level and add company name:\n",
    "data_hist=data_hist.droplevel(axis=1,level=0)\n",
    "data_hist=data_hist.merge(dill.load(open('sic_codes.pkl','rb')),how='left',left_index=True,right_index=True)\n",
    "data_hist=data_hist.droplevel(axis=0,level=0)\n",
    "\n",
    "# Define variables to be charted:\n",
    "h1=tag2label[histnum]\n",
    "if histbase!=None:\n",
    "    h2=tag2label[histbase]\n",
    "hy='Fiscal Years'\n",
    "if histbase!=None:\n",
    "    hvar=h1+' Per '+h2\n",
    "else:\n",
    "    hvar=h1\n",
    "data_hist.loc[data_hist['hist_match'],h1]=data_hist[histnum]\n",
    "if histbase!=None:\n",
    "    data_hist.loc[data_hist['hist_match'],h2]=data_hist[histbase]\n",
    "data_hist['yearc']=data_hist.index.get_level_values('year').astype('str')\n",
    "data_hist.loc[data_hist['hist_match'],hy]=data_hist['yearc']\n",
    "\n",
    "# Sort years:\n",
    "data_hist=data_hist.sort_values('year',ascending=True)\n",
    "\n",
    "#Define trendline variable:\n",
    "if histbase!=None:\n",
    "    data_hist[hvar]=data_hist[h1]/data_hist[h2]\n",
    "else:\n",
    "    data_hist[hvar]=data_hist[h1]\n",
    "data_hist.loc[data_hist['hist_match']==0,hvar]=None\n",
    "\n",
    "#Add string formatted labels:\n",
    "hvarlabel='Trendline value'\n",
    "if histbase!=None:\n",
    "    data_hist[hvarlabel]=data_hist[hvar].map(lambda x: \"{:,.2f}\".format(x))\n",
    "elif data_hist[hvar].mean()>1:\n",
    "    data_hist[hvarlabel]=data_hist[hvar].map(lambda x: \"${:,.0f}\".format(x))\n",
    "else:\n",
    "    data_hist[hvarlabel]=data_hist[hvar].map(lambda x:100*x).map(lambda x: \"{:,.2f}%\".format(x))\n",
    "\n"
   ]
  },
  {
   "cell_type": "code",
   "execution_count": 257,
   "metadata": {},
   "outputs": [
    {
     "data": {
      "text/plain": [
       "<matplotlib.axes._subplots.AxesSubplot at 0x1423b92e0>"
      ]
     },
     "execution_count": 257,
     "metadata": {},
     "output_type": "execute_result"
    },
    {
     "data": {
      "image/png": "[encoded data removed]",
      "text/plain": [
       "<Figure size 432x288 with 1 Axes>"
      ]
     },
     "metadata": {
      "needs_background": "light"
     },
     "output_type": "display_data"
    }
   ],
   "source": [
    "data_hist.plot.bar(x='Fiscal Years',y=hvar)\n"
   ]
  },
  {
   "cell_type": "code",
   "execution_count": 253,
   "metadata": {},
   "outputs": [
    {
     "data": {
      "text/html": [
       "\n",
       "<div id=\"altair-viz-e187c3b2d8114ae5b17e35da14e4b085\"></div>\n",
       "<script type=\"text/javascript\">\n",
       "  (function(spec, embedOpt){\n",
       "    let outputDiv = document.currentScript.previousElementSibling;\n",
       "    if (outputDiv.id !== \"altair-viz-e187c3b2d8114ae5b17e35da14e4b085\") {\n",
       "      outputDiv = document.getElementById(\"altair-viz-e187c3b2d8114ae5b17e35da14e4b085\");\n",
       "    }\n",
       "    const paths = {\n",
       "      \"vega\": \"https://cdn.jsdelivr.net/npm//vega@5?noext\",\n",
       "      \"vega-lib\": \"https://cdn.jsdelivr.net/npm//vega-lib?noext\",\n",
       "      \"vega-lite\": \"https://cdn.jsdelivr.net/npm//vega-lite@4.8.1?noext\",\n",
       "      \"vega-embed\": \"https://cdn.jsdelivr.net/npm//vega-embed@6?noext\",\n",
       "    };\n",
       "\n",
       "    function loadScript(lib) {\n",
       "      return new Promise(function(resolve, reject) {\n",
       "        var s = document.createElement('script');\n",
       "        s.src = paths[lib];\n",
       "        s.async = true;\n",
       "        s.onload = () => resolve(paths[lib]);\n",
       "        s.onerror = () => reject(`Error loading script: ${paths[lib]}`);\n",
       "        document.getElementsByTagName(\"head\")[0].appendChild(s);\n",
       "      });\n",
       "    }\n",
       "\n",
       "    function showError(err) {\n",
       "      outputDiv.innerHTML = `<div class=\"error\" style=\"color:red;\">${err}</div>`;\n",
       "      throw err;\n",
       "    }\n",
       "\n",
       "    function displayChart(vegaEmbed) {\n",
       "      vegaEmbed(outputDiv, spec, embedOpt)\n",
       "        .catch(err => showError(`Javascript Error: ${err.message}<br>This usually means there's a typo in your chart specification. See the javascript console for the full traceback.`));\n",
       "    }\n",
       "\n",
       "    if(typeof define === \"function\" && define.amd) {\n",
       "      requirejs.config({paths});\n",
       "      require([\"vega-embed\"], displayChart, err => showError(`Error loading script: ${err.message}`));\n",
       "    } else if (typeof vegaEmbed === \"function\") {\n",
       "      displayChart(vegaEmbed);\n",
       "    } else {\n",
       "      loadScript(\"vega\")\n",
       "        .then(() => loadScript(\"vega-lite\"))\n",
       "        .then(() => loadScript(\"vega-embed\"))\n",
       "        .catch(showError)\n",
       "        .then(() => displayChart(vegaEmbed));\n",
       "    }\n",
       "  })({\"config\": {\"view\": {\"continuousWidth\": 400, \"continuousHeight\": 300}}, \"data\": {\"name\": \"data-310b0a4f605b8a4ebb7046ad61facc4d\"}, \"mark\": \"line\", \"encoding\": {\"x\": {\"type\": \"nominal\", \"field\": \"Fiscal Years\"}, \"y\": {\"type\": \"quantitative\", \"field\": \"Domestic Income Tax Expense (Benefit)\", \"scale\": {\"type\": \"linear\"}}}, \"height\": 200, \"width\": 600, \"$schema\": \"https://vega.github.io/schema/vega-lite/v4.8.1.json\", \"datasets\": {\"data-310b0a4f605b8a4ebb7046ad61facc4d\": [{\"DomesticIncomeTaxExpenseBenefit\": 436000000.0, \"hist_match\": true, \"name\": \"AMAZON COM INC\", \"sic\": 5961.0, \"Domestic Income Tax Expense (Benefit)\": 436000000.0, \"yearc\": \"2018\", \"Fiscal Years\": \"2018\", \"Trendline value\": \"$436,000,000\"}, {\"DomesticIncomeTaxExpenseBenefit\": 1076000000.0, \"hist_match\": true, \"name\": \"AMAZON COM INC\", \"sic\": 5961.0, \"Domestic Income Tax Expense (Benefit)\": 1076000000.0, \"yearc\": \"2019\", \"Fiscal Years\": \"2019\", \"Trendline value\": \"$1,076,000,000\"}]}}, {\"mode\": \"vega-lite\"});\n",
       "</script>"
      ],
      "text/plain": [
       "alt.Chart(...)"
      ]
     },
     "execution_count": 253,
     "metadata": {},
     "output_type": "execute_result"
    }
   ],
   "source": [
    "trend = alt.Chart(data_hist,width=600, height=200).mark_line().encode(\n",
    "    y=alt.Y(f'{hvar}:Q',scale=alt.Scale(type='linear')),\n",
    "    x = alt.X(f'{hy}:N')\n",
    ")\n",
    "trend\n"
   ]
  },
  {
   "cell_type": "code",
   "execution_count": 261,
   "metadata": {},
   "outputs": [
    {
     "data": {
      "text/plain": [
       "<seaborn.axisgrid.FacetGrid at 0x1424976a0>"
      ]
     },
     "execution_count": 261,
     "metadata": {},
     "output_type": "execute_result"
    },
    {
     "data": {
      "image/png": "[encoded data removed]",
      "text/plain": [
       "<Figure size 324x432 with 1 Axes>"
      ]
     },
     "metadata": {
      "needs_background": "light"
     },
     "output_type": "display_data"
    }
   ],
   "source": [
    "import seaborn as sns\n",
    "\n",
    "# Draw a pointplot to show pulse as a function of three categorical factors\n",
    "g = sns.catplot(x=hy, y=hvar,\n",
    "                capsize=.2, palette=\"YlGnBu_d\", height=6, aspect=.75,\n",
    "                kind=\"point\", data=data_hist)\n",
    "g.despine(left=True)"
   ]
  },
  {
   "cell_type": "code",
   "execution_count": 406,
   "metadata": {},
   "outputs": [
    {
     "data": {
      "text/html": [
       "<div>\n",
       "<style scoped>\n",
       "    .dataframe tbody tr th:only-of-type {\n",
       "        vertical-align: middle;\n",
       "    }\n",
       "\n",
       "    .dataframe tbody tr th {\n",
       "        vertical-align: top;\n",
       "    }\n",
       "\n",
       "    .dataframe thead th {\n",
       "        text-align: right;\n",
       "    }\n",
       "</style>\n",
       "<table border=\"1\" class=\"dataframe\">\n",
       "  <thead>\n",
       "    <tr style=\"text-align: right;\">\n",
       "      <th></th>\n",
       "      <th>Revenues</th>\n",
       "      <th>hist_match</th>\n",
       "      <th>name</th>\n",
       "      <th>sic</th>\n",
       "      <th>yearc</th>\n",
       "      <th>Fiscal Years</th>\n",
       "      <th>Trendline value</th>\n",
       "    </tr>\n",
       "    <tr>\n",
       "      <th>year</th>\n",
       "      <th></th>\n",
       "      <th></th>\n",
       "      <th></th>\n",
       "      <th></th>\n",
       "      <th></th>\n",
       "      <th></th>\n",
       "      <th></th>\n",
       "    </tr>\n",
       "  </thead>\n",
       "  <tbody>\n",
       "    <tr>\n",
       "      <th>2017</th>\n",
       "      <td>1.778660e+11</td>\n",
       "      <td>True</td>\n",
       "      <td>AMAZON COM INC</td>\n",
       "      <td>5961.0</td>\n",
       "      <td>2017</td>\n",
       "      <td>2017</td>\n",
       "      <td>$177,866,000,000</td>\n",
       "    </tr>\n",
       "    <tr>\n",
       "      <th>2018</th>\n",
       "      <td>2.328870e+11</td>\n",
       "      <td>True</td>\n",
       "      <td>AMAZON COM INC</td>\n",
       "      <td>5961.0</td>\n",
       "      <td>2018</td>\n",
       "      <td>2018</td>\n",
       "      <td>$232,887,000,000</td>\n",
       "    </tr>\n",
       "    <tr>\n",
       "      <th>2019</th>\n",
       "      <td>2.805220e+11</td>\n",
       "      <td>True</td>\n",
       "      <td>AMAZON COM INC</td>\n",
       "      <td>5961.0</td>\n",
       "      <td>2019</td>\n",
       "      <td>2019</td>\n",
       "      <td>$280,522,000,000</td>\n",
       "    </tr>\n",
       "  </tbody>\n",
       "</table>\n",
       "</div>"
      ],
      "text/plain": [
       "          Revenues  hist_match            name     sic yearc Fiscal Years  \\\n",
       "year                                                                        \n",
       "2017  1.778660e+11        True  AMAZON COM INC  5961.0  2017         2017   \n",
       "2018  2.328870e+11        True  AMAZON COM INC  5961.0  2018         2018   \n",
       "2019  2.805220e+11        True  AMAZON COM INC  5961.0  2019         2019   \n",
       "\n",
       "       Trendline value  \n",
       "year                    \n",
       "2017  $177,866,000,000  \n",
       "2018  $232,887,000,000  \n",
       "2019  $280,522,000,000  "
      ]
     },
     "execution_count": 406,
     "metadata": {},
     "output_type": "execute_result"
    },
    {
     "data": {
      "image/png": "[encoded data removed]",
      "text/plain": [
       "<Figure size 432x288 with 1 Axes>"
      ]
     },
     "metadata": {
      "needs_background": "light"
     },
     "output_type": "display_data"
    }
   ],
   "source": [
    "# Load necessary files:\n",
    "t=dill.load(open('t.pkl','rb'))\n",
    "tag2label=dill.load(open('tag2label.pkl','rb'))\n",
    "tickers=pd.read_table('tickers.txt')\n",
    "tickers=tickers.set_index('cik')\n",
    "\n",
    "\n",
    "# Get request to read in form entries\n",
    "years=[2017,2018,2019,2020]\n",
    "histnum='Revenues'\n",
    "#histnum='EffectiveIncomeTaxRateReconciliationTaxCredits'\n",
    "histbase=None\n",
    "tic='amzn' \n",
    "\n",
    "# Chart build-up\n",
    "setselect=(t.index.get_level_values('year').isin(years) & (t.index.get_level_values('cik')==ticik))\n",
    "\n",
    "# Create dataset to be charted\n",
    "if histbase!=None:\n",
    "    data_hist=t.loc[setselect,[('value',histnum),('value',histbase),('month',histnum),('month',histbase)]].copy()\n",
    "    data_hist[('','hist_match')]=(t[('month',histnum)]==t[('month',histbase)])\n",
    "    data_hist=data_hist.drop([('month',histnum),('month',histbase)],axis=1)    \n",
    "if histbase==None:\n",
    "    data_hist=t.loc[setselect,list(set([('value',histnum),('month',histnum)]))].copy()\n",
    "    data_hist[('','hist_match')]=t[('month',histnum)].notnull()\n",
    "    data_hist=data_hist.drop([('month',histnum)],axis=1)\n",
    "\n",
    "# Drop 0 level and add company name:\n",
    "data_hist=data_hist.droplevel(axis=1,level=0)\n",
    "data_hist=data_hist.merge(dill.load(open('sic_codes.pkl','rb')),how='left',left_index=True,right_index=True)\n",
    "data_hist=data_hist.droplevel(axis=0,level=0)\n",
    "\n",
    "# Define variables to be charted:\n",
    "h1=tag2label[histnum]\n",
    "if histbase!=None:\n",
    "    h2=tag2label[histbase]\n",
    "hy='Fiscal Years'\n",
    "if histbase!=None:\n",
    "    hvar=h1+' Per '+h2\n",
    "else:\n",
    "    hvar=h1\n",
    "data_hist.loc[data_hist['hist_match'],h1]=data_hist[histnum]\n",
    "if histbase!=None:\n",
    "    data_hist.loc[data_hist['hist_match'],h2]=data_hist[histbase]\n",
    "data_hist['yearc']=data_hist.index.get_level_values('year').astype('str')\n",
    "data_hist.loc[data_hist['hist_match'],hy]=data_hist['yearc']\n",
    "\n",
    "# Sort years:\n",
    "data_hist=data_hist.sort_values('year',ascending=True)\n",
    "\n",
    "#Define trendline variable:\n",
    "if histbase!=None:\n",
    "    data_hist[hvar]=data_hist[h1]/data_hist[h2]\n",
    "else:\n",
    "    data_hist[hvar]=data_hist[h1]\n",
    "data_hist.loc[data_hist['hist_match']==0,hvar]=None\n",
    "\n",
    "#Add string formatted labels:\n",
    "hvarlabel='Trendline value'\n",
    "if histbase!=None:\n",
    "    data_hist[hvarlabel]=data_hist[hvar].map(lambda x: \"{:,.2f}\".format(x))\n",
    "elif data_hist[hvar].mean()>1:\n",
    "    data_hist[hvarlabel]=data_hist[hvar].map(lambda x: \"${:,.0f}\".format(x))\n",
    "else:\n",
    "    data_hist[hvarlabel]=data_hist[hvar].map(lambda x:100*x).map(lambda x: \"{:,.2f}%\".format(x))\n",
    "\n",
    "trend=data_hist.plot.bar(x=hy,y=hvar)\n",
    "data_hist"
   ]
  },
  {
   "cell_type": "code",
   "execution_count": 407,
   "metadata": {},
   "outputs": [
    {
     "data": {
      "image/png": "[encoded data removed]",
      "text/plain": [
       "<Figure size 720x432 with 1 Axes>"
      ]
     },
     "metadata": {
      "needs_background": "light"
     },
     "output_type": "display_data"
    }
   ],
   "source": [
    "if (histbase==None) & (data_hist[hvar].mean()<=1):\n",
    "    data_hist[hvar]=data_hist[hvar].map(lambda x:100*x)\n",
    "    perc=True\n",
    "import matplotlib.pyplot as plt\n",
    "plt.figure(figsize=(10,6))\n",
    "plt.plot(hy,hvar,'b-',marker='o',lw=0.5,data=data_hist)\n",
    "plt.ylabel(hvar)\n",
    "plt.xlabel(hy)\n",
    "plt.grid(True)\n",
    "plt.title(data_hist['name'].values[0])\n",
    "\n",
    "# after plotting the data, format the labels\n",
    "current_values = plt.gca().get_yticks()\n",
    "if histbase!=None:\n",
    "    plt.gca().set_yticklabels(['{:.2f}'.format(x) for x in current_values])\n",
    "elif perc==True:\n",
    "    plt.gca().set_yticklabels(['{:.1f}%'.format(x) for x in current_values])\n",
    "    perc=None\n",
    "else:\n",
    "    plt.gca().set_yticklabels(['${:,.0f}'.format(x) for x in current_values])\n",
    "plt.show()\n"
   ]
  },
  {
   "cell_type": "code",
   "execution_count": 388,
   "metadata": {},
   "outputs": [
    {
     "ename": "AttributeError",
     "evalue": "'list' object has no attribute 'save'",
     "output_type": "error",
     "traceback": [
      "\u001b[0;31m---------------------------------------------------------------------------\u001b[0m",
      "\u001b[0;31mAttributeError\u001b[0m                            Traceback (most recent call last)",
      "\u001b[0;32m<ipython-input-388-856b2f95d4df>\u001b[0m in \u001b[0;36m<module>\u001b[0;34m\u001b[0m\n\u001b[1;32m      1\u001b[0m \u001b[0;32mimport\u001b[0m \u001b[0mmatplotlib\u001b[0m\u001b[0;34m.\u001b[0m\u001b[0mpyplot\u001b[0m \u001b[0;32mas\u001b[0m \u001b[0mplt\u001b[0m\u001b[0;34m,\u001b[0m \u001b[0mmpld3\u001b[0m\u001b[0;34m\u001b[0m\u001b[0;34m\u001b[0m\u001b[0m\n\u001b[1;32m      2\u001b[0m \u001b[0mfig\u001b[0m\u001b[0;34m=\u001b[0m\u001b[0mplt\u001b[0m\u001b[0;34m.\u001b[0m\u001b[0mplot\u001b[0m\u001b[0;34m(\u001b[0m\u001b[0;34m[\u001b[0m\u001b[0;36m3\u001b[0m\u001b[0;34m,\u001b[0m\u001b[0;36m1\u001b[0m\u001b[0;34m,\u001b[0m\u001b[0;36m4\u001b[0m\u001b[0;34m,\u001b[0m\u001b[0;36m1\u001b[0m\u001b[0;34m,\u001b[0m\u001b[0;36m5\u001b[0m\u001b[0;34m]\u001b[0m\u001b[0;34m,\u001b[0m \u001b[0;34m'ks-'\u001b[0m\u001b[0;34m,\u001b[0m \u001b[0mmec\u001b[0m\u001b[0;34m=\u001b[0m\u001b[0;34m'w'\u001b[0m\u001b[0;34m,\u001b[0m \u001b[0mmew\u001b[0m\u001b[0;34m=\u001b[0m\u001b[0;36m5\u001b[0m\u001b[0;34m,\u001b[0m \u001b[0mms\u001b[0m\u001b[0;34m=\u001b[0m\u001b[0;36m20\u001b[0m\u001b[0;34m)\u001b[0m\u001b[0;34m\u001b[0m\u001b[0;34m\u001b[0m\u001b[0m\n\u001b[0;32m----> 3\u001b[0;31m \u001b[0mfig\u001b[0m\u001b[0;34m.\u001b[0m\u001b[0msave\u001b[0m\u001b[0;34m\u001b[0m\u001b[0;34m\u001b[0m\u001b[0m\n\u001b[0m",
      "\u001b[0;31mAttributeError\u001b[0m: 'list' object has no attribute 'save'"
     ]
    },
    {
     "data": {
      "image/png": "[encoded data removed]",
      "text/plain": [
       "<Figure size 432x288 with 1 Axes>"
      ]
     },
     "metadata": {
      "needs_background": "light"
     },
     "output_type": "display_data"
    }
   ],
   "source": [
    "import matplotlib.pyplot as plt, mpld3\n",
    "fig=plt.plot([3,1,4,1,5], 'ks-', mec='w', mew=5, ms=20)\n",
    "fig.save"
   ]
  },
  {
   "cell_type": "code",
   "execution_count": 367,
   "metadata": {},
   "outputs": [
    {
     "data": {
      "text/plain": [
       "array(['$177,866,000,000', '$232,887,000,000', '$280,522,000,000'],\n",
       "      dtype=object)"
      ]
     },
     "execution_count": 367,
     "metadata": {},
     "output_type": "execute_result"
    }
   ],
   "source": [
    "data_hist[hvarlabel].values"
   ]
  },
  {
   "cell_type": "code",
   "execution_count": 363,
   "metadata": {},
   "outputs": [
    {
     "data": {
      "text/html": [
       "<div>\n",
       "<style scoped>\n",
       "    .dataframe tbody tr th:only-of-type {\n",
       "        vertical-align: middle;\n",
       "    }\n",
       "\n",
       "    .dataframe tbody tr th {\n",
       "        vertical-align: top;\n",
       "    }\n",
       "\n",
       "    .dataframe thead th {\n",
       "        text-align: right;\n",
       "    }\n",
       "</style>\n",
       "<table border=\"1\" class=\"dataframe\">\n",
       "  <thead>\n",
       "    <tr style=\"text-align: right;\">\n",
       "      <th></th>\n",
       "      <th>Revenues</th>\n",
       "      <th>hist_match</th>\n",
       "      <th>name</th>\n",
       "      <th>sic</th>\n",
       "      <th>yearc</th>\n",
       "      <th>Fiscal Years</th>\n",
       "      <th>Trendline value</th>\n",
       "    </tr>\n",
       "    <tr>\n",
       "      <th>year</th>\n",
       "      <th></th>\n",
       "      <th></th>\n",
       "      <th></th>\n",
       "      <th></th>\n",
       "      <th></th>\n",
       "      <th></th>\n",
       "      <th></th>\n",
       "    </tr>\n",
       "  </thead>\n",
       "  <tbody>\n",
       "    <tr>\n",
       "      <th>2017</th>\n",
       "      <td>1.778660e+11</td>\n",
       "      <td>True</td>\n",
       "      <td>AMAZON COM INC</td>\n",
       "      <td>5961.0</td>\n",
       "      <td>2017</td>\n",
       "      <td>2017</td>\n",
       "      <td>$177,866,000,000</td>\n",
       "    </tr>\n",
       "    <tr>\n",
       "      <th>2018</th>\n",
       "      <td>2.328870e+11</td>\n",
       "      <td>True</td>\n",
       "      <td>AMAZON COM INC</td>\n",
       "      <td>5961.0</td>\n",
       "      <td>2018</td>\n",
       "      <td>2018</td>\n",
       "      <td>$232,887,000,000</td>\n",
       "    </tr>\n",
       "    <tr>\n",
       "      <th>2019</th>\n",
       "      <td>2.805220e+11</td>\n",
       "      <td>True</td>\n",
       "      <td>AMAZON COM INC</td>\n",
       "      <td>5961.0</td>\n",
       "      <td>2019</td>\n",
       "      <td>2019</td>\n",
       "      <td>$280,522,000,000</td>\n",
       "    </tr>\n",
       "  </tbody>\n",
       "</table>\n",
       "</div>"
      ],
      "text/plain": [
       "          Revenues  hist_match            name     sic yearc Fiscal Years  \\\n",
       "year                                                                        \n",
       "2017  1.778660e+11        True  AMAZON COM INC  5961.0  2017         2017   \n",
       "2018  2.328870e+11        True  AMAZON COM INC  5961.0  2018         2018   \n",
       "2019  2.805220e+11        True  AMAZON COM INC  5961.0  2019         2019   \n",
       "\n",
       "       Trendline value  \n",
       "year                    \n",
       "2017  $177,866,000,000  \n",
       "2018  $232,887,000,000  \n",
       "2019  $280,522,000,000  "
      ]
     },
     "execution_count": 363,
     "metadata": {},
     "output_type": "execute_result"
    }
   ],
   "source": [
    "data_hist"
   ]
  },
  {
   "cell_type": "code",
   "execution_count": 410,
   "metadata": {},
   "outputs": [
    {
     "data": {
      "text/plain": [
       "['4', '5']"
      ]
     },
     "execution_count": 410,
     "metadata": {},
     "output_type": "execute_result"
    }
   ],
   "source": [
    "l=['All Available','4','5']\n",
    "if l.index('All Available'):\n",
    "    l.pop(l.index('All Available'))\n",
    "l"
   ]
  },
  {
   "cell_type": "code",
   "execution_count": 412,
   "metadata": {},
   "outputs": [
    {
     "ename": "ValueError",
     "evalue": "'45' is not in list",
     "output_type": "error",
     "traceback": [
      "\u001b[0;31m---------------------------------------------------------------------------\u001b[0m",
      "\u001b[0;31mValueError\u001b[0m                                Traceback (most recent call last)",
      "\u001b[0;32m<ipython-input-412-1df2d21839dd>\u001b[0m in \u001b[0;36m<module>\u001b[0;34m\u001b[0m\n\u001b[0;32m----> 1\u001b[0;31m \u001b[0;32mif\u001b[0m \u001b[0ml\u001b[0m\u001b[0;34m.\u001b[0m\u001b[0mindex\u001b[0m\u001b[0;34m(\u001b[0m\u001b[0;34m'45'\u001b[0m\u001b[0;34m)\u001b[0m\u001b[0;34m:\u001b[0m\u001b[0;34m\u001b[0m\u001b[0;34m\u001b[0m\u001b[0m\n\u001b[0m\u001b[1;32m      2\u001b[0m     \u001b[0mg\u001b[0m\u001b[0;34m=\u001b[0m\u001b[0;32mTrue\u001b[0m\u001b[0;34m\u001b[0m\u001b[0;34m\u001b[0m\u001b[0m\n",
      "\u001b[0;31mValueError\u001b[0m: '45' is not in list"
     ]
    }
   ],
   "source": [
    "if l.index('45'):\n",
    "    g=True"
   ]
  },
  {
   "cell_type": "code",
   "execution_count": 413,
   "metadata": {},
   "outputs": [
    {
     "data": {
      "text/plain": [
       "<seaborn.axisgrid.FacetGrid at 0x1424976a0>"
      ]
     },
     "execution_count": 413,
     "metadata": {},
     "output_type": "execute_result"
    }
   ],
   "source": [
    "g"
   ]
  },
  {
   "cell_type": "code",
   "execution_count": 425,
   "metadata": {},
   "outputs": [],
   "source": [
    "yearlist=None\n",
    "if yearlist:\n",
    "    if (yearlist[0]=='All Available'):\n",
    "        years=[2010,2011,2012,2013,2014,2015,2016,2017,2018,2019,2020]\n",
    "    else:\n",
    "        years=[int(y) for y in yearlist] "
   ]
  },
  {
   "cell_type": "code",
   "execution_count": 442,
   "metadata": {},
   "outputs": [],
   "source": [
    "# Get request to read in form entries\n",
    "yearlist = None\n",
    "if yearlist:\n",
    "    if yearlist[0]=='All Available':\n",
    "        years=[2010,2011,2012,2013,2014,2015,2016,2017,2018,2019,2020]\n",
    "    else:\n",
    "        years=[int(y) for y in yearlist]       \n"
   ]
  },
  {
   "cell_type": "code",
   "execution_count": 444,
   "metadata": {},
   "outputs": [],
   "source": [
    "yearlist=[]\n",
    "if yearlist:\n",
    "    if 2<3:\n",
    "        years=[2010,2011,2012,2013,2014,2015,2016,2017,2018,2019,2020]"
   ]
  },
  {
   "cell_type": "code",
   "execution_count": 445,
   "metadata": {},
   "outputs": [
    {
     "data": {
      "text/plain": [
       "[2011, 2010]"
      ]
     },
     "execution_count": 445,
     "metadata": {},
     "output_type": "execute_result"
    }
   ],
   "source": [
    "years"
   ]
  },
  {
   "cell_type": "code",
   "execution_count": 447,
   "metadata": {},
   "outputs": [
    {
     "ename": "TypeError",
     "evalue": "argument of type 'NoneType' is not iterable",
     "output_type": "error",
     "traceback": [
      "\u001b[0;31m---------------------------------------------------------------------------\u001b[0m",
      "\u001b[0;31mTypeError\u001b[0m                                 Traceback (most recent call last)",
      "\u001b[0;32m<ipython-input-447-2a1d28b0e34d>\u001b[0m in \u001b[0;36m<module>\u001b[0;34m\u001b[0m\n\u001b[0;32m----> 1\u001b[0;31m \u001b[0;32mif\u001b[0m \u001b[0;34m'gog'\u001b[0m \u001b[0;32min\u001b[0m \u001b[0;32mNone\u001b[0m\u001b[0;34m:\u001b[0m\u001b[0;34m\u001b[0m\u001b[0;34m\u001b[0m\u001b[0m\n\u001b[0m\u001b[1;32m      2\u001b[0m     \u001b[0mprint\u001b[0m\u001b[0;34m(\u001b[0m\u001b[0;34m'hh'\u001b[0m\u001b[0;34m)\u001b[0m\u001b[0;34m\u001b[0m\u001b[0;34m\u001b[0m\u001b[0m\n",
      "\u001b[0;31mTypeError\u001b[0m: argument of type 'NoneType' is not iterable"
     ]
    }
   ],
   "source": [
    "if 'gog' in None:\n",
    "    print('hh')"
   ]
  },
  {
   "cell_type": "code",
   "execution_count": null,
   "metadata": {},
   "outputs": [],
   "source": []
  }
 ],
 "metadata": {
  "kernelspec": {
   "display_name": "Python 3",
   "language": "python",
   "name": "python3"
  },
  "language_info": {
   "codemirror_mode": {
    "name": "ipython",
    "version": 3
   },
   "file_extension": ".py",
   "mimetype": "text/x-python",
   "name": "python",
   "nbconvert_exporter": "python",
   "pygments_lexer": "ipython3",
   "version": "3.8.3"
  }
 },
 "nbformat": 4,
 "nbformat_minor": 4
}
